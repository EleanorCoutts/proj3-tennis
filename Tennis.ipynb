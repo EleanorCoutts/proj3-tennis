{
 "cells": [
  {
   "cell_type": "markdown",
   "metadata": {},
   "source": [
    "# Collaboration and Competition\n",
    "\n",
    "---\n",
    "\n",
    "In this notebook, you will learn how to use the Unity ML-Agents environment for the third project of the [Deep Reinforcement Learning Nanodegree](https://www.udacity.com/course/deep-reinforcement-learning-nanodegree--nd893) program.\n",
    "\n",
    "### 1. Start the Environment\n",
    "\n",
    "We begin by importing the necessary packages.  If the code cell below returns an error, please revisit the project instructions to double-check that you have installed [Unity ML-Agents](https://github.com/Unity-Technologies/ml-agents/blob/master/docs/Installation.md) and [NumPy](http://www.numpy.org/)."
   ]
  },
  {
   "cell_type": "code",
   "execution_count": 1,
   "metadata": {},
   "outputs": [],
   "source": [
    "from unityagents import UnityEnvironment\n",
    "import numpy as np"
   ]
  },
  {
   "cell_type": "markdown",
   "metadata": {},
   "source": [
    "Next, we will start the environment!  **_Before running the code cell below_**, change the `file_name` parameter to match the location of the Unity environment that you downloaded.\n",
    "\n",
    "- **Mac**: `\"path/to/Tennis.app\"`\n",
    "- **Windows** (x86): `\"path/to/Tennis_Windows_x86/Tennis.exe\"`\n",
    "- **Windows** (x86_64): `\"path/to/Tennis_Windows_x86_64/Tennis.exe\"`\n",
    "- **Linux** (x86): `\"path/to/Tennis_Linux/Tennis.x86\"`\n",
    "- **Linux** (x86_64): `\"path/to/Tennis_Linux/Tennis.x86_64\"`\n",
    "- **Linux** (x86, headless): `\"path/to/Tennis_Linux_NoVis/Tennis.x86\"`\n",
    "- **Linux** (x86_64, headless): `\"path/to/Tennis_Linux_NoVis/Tennis.x86_64\"`\n",
    "\n",
    "For instance, if you are using a Mac, then you downloaded `Tennis.app`.  If this file is in the same folder as the notebook, then the line below should appear as follows:\n",
    "```\n",
    "env = UnityEnvironment(file_name=\"Tennis.app\")\n",
    "```"
   ]
  },
  {
   "cell_type": "code",
   "execution_count": 2,
   "metadata": {},
   "outputs": [
    {
     "name": "stderr",
     "output_type": "stream",
     "text": [
      "INFO:unityagents:\n",
      "'Academy' started successfully!\n",
      "Unity Academy name: Academy\n",
      "        Number of Brains: 1\n",
      "        Number of External Brains : 1\n",
      "        Lesson number : 0\n",
      "        Reset Parameters :\n",
      "\t\t\n",
      "Unity brain name: TennisBrain\n",
      "        Number of Visual Observations (per agent): 0\n",
      "        Vector Observation space type: continuous\n",
      "        Vector Observation space size (per agent): 8\n",
      "        Number of stacked Vector Observation: 3\n",
      "        Vector Action space type: continuous\n",
      "        Vector Action space size (per agent): 2\n",
      "        Vector Action descriptions: , \n"
     ]
    }
   ],
   "source": [
    "env = UnityEnvironment(file_name=\"./Tennis_Windows_x86_64/Tennis.exe\")"
   ]
  },
  {
   "cell_type": "markdown",
   "metadata": {},
   "source": [
    "Environments contain **_brains_** which are responsible for deciding the actions of their associated agents. Here we check for the first brain available, and set it as the default brain we will be controlling from Python."
   ]
  },
  {
   "cell_type": "code",
   "execution_count": 3,
   "metadata": {},
   "outputs": [],
   "source": [
    "# get the default brain\n",
    "brain_name = env.brain_names[0]\n",
    "brain = env.brains[brain_name]"
   ]
  },
  {
   "cell_type": "markdown",
   "metadata": {},
   "source": [
    "### 2. Examine the State and Action Spaces\n",
    "\n",
    "In this environment, two agents control rackets to bounce a ball over a net. If an agent hits the ball over the net, it receives a reward of +0.1.  If an agent lets a ball hit the ground or hits the ball out of bounds, it receives a reward of -0.01.  Thus, the goal of each agent is to keep the ball in play.\n",
    "\n",
    "The observation space consists of 8 variables corresponding to the position and velocity of the ball and racket. Two continuous actions are available, corresponding to movement toward (or away from) the net, and jumping. \n",
    "\n",
    "Run the code cell below to print some information about the environment."
   ]
  },
  {
   "cell_type": "code",
   "execution_count": 4,
   "metadata": {},
   "outputs": [
    {
     "name": "stdout",
     "output_type": "stream",
     "text": [
      "Number of agents: 2\n",
      "Size of each action: 2\n",
      "There are 2 agents. Each observes a state with length: 24\n",
      "The state for the first agent looks like: [ 0.          0.          0.          0.          0.          0.\n",
      "  0.          0.          0.          0.          0.          0.\n",
      "  0.          0.          0.          0.         -6.65278625 -1.5\n",
      " -0.          0.          6.83172083  6.         -0.          0.        ]\n"
     ]
    }
   ],
   "source": [
    "# reset the environment\n",
    "env_info = env.reset(train_mode=True)[brain_name]\n",
    "\n",
    "# number of agents \n",
    "num_agents = len(env_info.agents)\n",
    "print('Number of agents:', num_agents)\n",
    "\n",
    "# size of each action\n",
    "action_size = brain.vector_action_space_size\n",
    "print('Size of each action:', action_size)\n",
    "\n",
    "# examine the state space \n",
    "states = env_info.vector_observations\n",
    "state_size = states.shape[1]\n",
    "print('There are {} agents. Each observes a state with length: {}'.format(states.shape[0], state_size))\n",
    "print('The state for the first agent looks like:', states[0])"
   ]
  },
  {
   "cell_type": "markdown",
   "metadata": {},
   "source": [
    "### 3. Take Random Actions in the Environment\n",
    "\n",
    "In the next code cell, you will learn how to use the Python API to control the agents and receive feedback from the environment.\n",
    "\n",
    "Once this cell is executed, you will watch the agents' performance, if they select actions at random with each time step.  A window should pop up that allows you to observe the agents.\n",
    "\n",
    "Of course, as part of the project, you'll have to change the code so that the agents are able to use their experiences to gradually choose better actions when interacting with the environment!"
   ]
  },
  {
   "cell_type": "code",
   "execution_count": 5,
   "metadata": {},
   "outputs": [
    {
     "name": "stdout",
     "output_type": "stream",
     "text": [
      "Score (max over agents) from episode 1: 0.0\n",
      "Score (max over agents) from episode 2: 0.10000000149011612\n",
      "Score (max over agents) from episode 3: 0.10000000149011612\n",
      "Score (max over agents) from episode 4: 0.0\n",
      "Score (max over agents) from episode 5: 0.0\n"
     ]
    }
   ],
   "source": [
    "for i in range(1, 6):                                      # play game for 5 episodes\n",
    "    env_info = env.reset(train_mode=False)[brain_name]     # reset the environment    \n",
    "    states = env_info.vector_observations                  # get the current state (for each agent)\n",
    "    scores = np.zeros(num_agents)                          # initialize the score (for each agent)\n",
    "    while True:\n",
    "        actions = np.random.randn(num_agents, action_size) # select an action (for each agent)\n",
    "        actions = np.clip(actions, -1, 1)                  # all actions between -1 and 1\n",
    "        env_info = env.step(actions)[brain_name]           # send all actions to tne environment\n",
    "        next_states = env_info.vector_observations         # get next state (for each agent)\n",
    "        rewards = env_info.rewards                         # get reward (for each agent)\n",
    "        dones = env_info.local_done                        # see if episode finished\n",
    "        scores += env_info.rewards                         # update the score (for each agent)\n",
    "        states = next_states                               # roll over states to next time step\n",
    "        if np.any(dones):                                  # exit loop if episode finished\n",
    "            break\n",
    "    print('Score (max over agents) from episode {}: {}'.format(i, np.max(scores)))"
   ]
  },
  {
   "cell_type": "markdown",
   "metadata": {},
   "source": [
    "When finished, you can close the environment."
   ]
  },
  {
   "cell_type": "code",
   "execution_count": 6,
   "metadata": {},
   "outputs": [],
   "source": [
    "#env.close()"
   ]
  },
  {
   "cell_type": "markdown",
   "metadata": {},
   "source": [
    "### 4. It's Your Turn!\n",
    "\n",
    "Now it's your turn to train your own agent to solve the environment!  When training the environment, set `train_mode=True`, so that the line for resetting the environment looks like the following:\n",
    "```python\n",
    "env_info = env.reset(train_mode=True)[brain_name]\n",
    "```"
   ]
  },
  {
   "cell_type": "markdown",
   "metadata": {},
   "source": [
    "References:\n",
    "* [MADDPG paper](https://arxiv.org/pdf/1706.02275.pdf)\n",
    "* [Blog by Amit Patel](https://medium.com/@amitpatel.gt/maddpg-91caa221d75e) and associated code on [GitHib](https://github.com/gtg162y/DRLND/blob/master/P3_Collab_Compete/Tennis_Udacity_Workspace.ipynb)"
   ]
  },
  {
   "cell_type": "code",
   "execution_count": 7,
   "metadata": {},
   "outputs": [],
   "source": [
    "import torch\n",
    "import torch.nn as nn\n",
    "import torch.nn.functional as F\n",
    "import torch.optim as optim\n",
    "from collections import deque, namedtuple\n",
    "import copy\n",
    "import random\n",
    "from datetime import datetime\n",
    "import pickle\n",
    "import math\n",
    "import os\n"
   ]
  },
  {
   "cell_type": "code",
   "execution_count": 8,
   "metadata": {},
   "outputs": [],
   "source": [
    "def add_noise(arr, magnitude):\n",
    "    '''\n",
    "    Returns array with added noise. Noise is gaussian noise with mean 0 and standard deviation of magnitude\n",
    "    '''\n",
    "    noise = np.random.randn(*arr.shape)\n",
    "    new = arr + magnitude*noise\n",
    "    return new"
   ]
  },
  {
   "cell_type": "code",
   "execution_count": 9,
   "metadata": {},
   "outputs": [],
   "source": [
    "class actor_network(nn.Module):\n",
    "    def __init__(self, state_size, hidden1_size, hidden2_size, action_size):\n",
    "        super(actor_network, self).__init__()\n",
    "        self.fc1 = nn.Linear(state_size,hidden1_size)\n",
    "        self.fc2 = nn.Linear(hidden1_size,hidden2_size)\n",
    "        self.fc3 = nn.Linear(hidden2_size,action_size)\n",
    "        \n",
    "    def forward(self,state):\n",
    "        x = F.relu(self.fc1(state))\n",
    "        x = F.relu(self.fc2(x))\n",
    "        x = F.tanh(self.fc3(x))\n",
    "        return(x)\n",
    "\n",
    "class critic_network(nn.Module):\n",
    "    def __init__(self, observation_size, hidden1_size, hidden2_size, action_size, n_agents):\n",
    "        #assume every agent has same action size and observation size\n",
    "        super(critic_network, self).__init__()\n",
    "        self.fc1 = nn.Linear((observation_size+action_size)*n_agents,hidden1_size)\n",
    "        self.fc2 = nn.Linear(hidden1_size,hidden2_size)\n",
    "        self.fc3 = nn.Linear(hidden2_size,action_size)\n",
    "        \n",
    "    def forward(self,all_observations,all_actions):\n",
    "        \n",
    "        x = torch.cat((all_observations,all_actions),dim=1) \n",
    "        #here the action has been included from the 1st layer\n",
    "        x = F.relu(self.fc1(x))\n",
    "        x = F.relu(self.fc2(x))\n",
    "        x = self.fc3(x)\n",
    "        return(x)"
   ]
  },
  {
   "cell_type": "code",
   "execution_count": 10,
   "metadata": {},
   "outputs": [],
   "source": [
    "class replay_buffer():\n",
    "    def __init__(self, max_size, batch_size):\n",
    "        self.max_size = int(max_size)\n",
    "        self.batch_size = int(batch_size)\n",
    "        \n",
    "        self.memory = deque(maxlen=self.max_size)\n",
    "        self.experiences = namedtuple(\"Experience\", field_names=[\"states\", \"actions\", \"rewards\", \"next_states\", \"dones\"])\n",
    "        \n",
    "    def add(self, states, actions, rewards, next_states, dones):\n",
    "        e = self.experiences(states, actions, rewards, next_states, dones)\n",
    "        self.memory.append(e)\n",
    "    \n",
    "    def sample(self):\n",
    "        experiences = random.sample(self.memory, k=self.batch_size)\n",
    "        s, ns, a, r, d = [], [], [], [], []\n",
    "        for e in experiences:\n",
    "            s.append(torch.from_numpy(e.states).float())\n",
    "            a.append(torch.from_numpy(e.actions).float())\n",
    "            r.append(torch.from_numpy(np.array(e.rewards)).float())\n",
    "            ns.append(torch.from_numpy(e.next_states).float())\n",
    "            d.append(torch.from_numpy(np.array(e.dones,dtype=np.float64)).float())\n",
    "        return(torch.stack(s), torch.stack(a), torch.stack(r), torch.stack(ns), torch.stack(d)) #stack adds new dimension in at 0 (left)\n",
    "    \n",
    "    def __len__(self):\n",
    "        return(len(self.memory))\n"
   ]
  },
  {
   "cell_type": "code",
   "execution_count": 11,
   "metadata": {},
   "outputs": [],
   "source": [
    "class agent:\n",
    "    def __init__(self, num_agents, observation_size, action_size,\n",
    "                 actor_hidden1_size, actor_hidden2_size,\n",
    "                 critic_hidden1_size, critic_hidden2_size,\n",
    "                 noise_start, noise_decay, noise_min,\n",
    "                 replay_buffer_size, replay_batch_size,\n",
    "                 gamma, critic_LR, actor_LR, tau):\n",
    "        \n",
    "        self.num_agents = num_agents\n",
    "        self.action_size = action_size\n",
    "        self.observation_size = observation_size\n",
    "        \n",
    "        self.gamma = gamma\n",
    "        self.tau = tau\n",
    "        \n",
    "        self.actors_local = []\n",
    "        self.critics_local = []\n",
    "        self.actor_optims = []\n",
    "        self.critic_optims = []\n",
    "        for i in range(self.num_agents):\n",
    "            self.actors_local.append(actor_network(observation_size, actor_hidden1_size, actor_hidden2_size, action_size))\n",
    "            self.critics_local.append(critic_network(observation_size, critic_hidden1_size, critic_hidden2_size, action_size, self.num_agents))\n",
    "            self.actor_optims.append(optim.Adam(self.actors_local[i].parameters(), lr=actor_LR))\n",
    "            self.critic_optims.append(optim.Adam(self.critics_local[i].parameters(), lr=critic_LR))\n",
    "        \n",
    "        self.actors_target = copy.deepcopy(self.actors_local)\n",
    "        self.critics_target = copy.deepcopy(self.critics_local)\n",
    "        \n",
    "        self.noise_magnitude = noise_start\n",
    "        self.noise_decay, self.noise_min = noise_decay, noise_min\n",
    "        self.step_count = 0\n",
    "        \n",
    "        self.replay_batch_size = replay_batch_size\n",
    "        self.replay_buffer = replay_buffer(replay_buffer_size, replay_batch_size)\n",
    "        \n",
    "\n",
    "    \n",
    "    def get_actions(self, states, noise=True):\n",
    "        '''\n",
    "        Given array of all observations (states) for all agents (n_agents,state_size), return actions using each agent's policy\n",
    "        '''\n",
    "        actions = []\n",
    "        for i in range(self.num_agents):\n",
    "            state = states[i,:]\n",
    "            state = torch.from_numpy(state).float()\n",
    "            action = self.actors_local[i](state).detach().numpy()\n",
    "            actions.append(action)\n",
    "        \n",
    "        actions = np.array(actions) \n",
    "        #shape(n_agents,action_size)\n",
    "        \n",
    "        if noise:\n",
    "            actions = add_noise(actions,self.noise_magnitude)\n",
    "            \n",
    "        return(np.array(actions))\n",
    "    \n",
    "    def decay_noise(self):\n",
    "        self.noise_magnitude = max(self.noise_magnitude*self.noise_decay, self.noise_min)\n",
    "    \n",
    "    def step(self, states, actions, rewards, next_states, dones):\n",
    "        self.replay_buffer.add(states, actions, rewards, next_states, dones)\n",
    "        if len(self.replay_buffer) >= self.replay_batch_size:\n",
    "            for i in range(self.num_agents):\n",
    "                e = self.replay_buffer.sample()\n",
    "                self.learn(e, i)\n",
    "                \n",
    "    def learn(self, experience, agent_no):\n",
    "        states, actions, rewards, next_states, dones = experience\n",
    "        #states and next states: (batch_size, n_agents, observation_size)\n",
    "        #actions:                (batch_size, n_agents, action_size)\n",
    "        #rewards and dones       (batch_size, n_agents)\n",
    "\n",
    "        next_actions = []\n",
    "        for k in range(self.num_agents):\n",
    "            local_obs = next_states[:,k,:]\n",
    "            #local_obs = torch.from_numpy(local_obs).float()\n",
    "            na = self.actors_target[k](local_obs)\n",
    "            #size (batch_size,action_size)\n",
    "            next_actions.append(na)\n",
    "            \n",
    "        #update local critic\n",
    "        states_flat = states.view(self.replay_batch_size,self.num_agents*self.observation_size)\n",
    "        actions_flat = actions.view(self.replay_batch_size,self.num_agents*self.action_size)\n",
    "        Q_vals = self.critics_local[agent_no](states_flat,actions_flat) #size (batch_size, action_size)\n",
    "        \n",
    "        next_actions = torch.stack(next_actions,dim=1).view(self.replay_batch_size,self.num_agents*self.action_size)\n",
    "        flat_next_states = next_states.view(self.replay_batch_size,self.num_agents*self.observation_size)\n",
    "        Q_next = self.critics_target[agent_no](flat_next_states, next_actions) #size (batch_size, action_size)\n",
    "        Q_target = rewards[:,agent_no].view(self.replay_batch_size,1) + self.gamma * Q_next\n",
    "        \n",
    "        critic_loss = F.mse_loss(Q_vals,Q_target)\n",
    "        self.critic_optims[agent_no].zero_grad\n",
    "        critic_loss.backward()\n",
    "        self.critic_optims[agent_no].step()\n",
    "\n",
    "        #update local actor\n",
    "        actions_to_critic = actions #actions of every agent\n",
    "        actions_to_critic[:,agent_no,:] = self.actors_local[agent_no](states[:,agent_no,:]) #replace values for this agent with value from policy\n",
    "        actions_to_critic = actions_to_critic.view(self.replay_batch_size,self.num_agents*self.action_size)\n",
    "\n",
    "        actor_loss = -self.critics_local[agent_no](states_flat,actions_to_critic).mean()\n",
    "        self.actor_optims[agent_no].zero_grad()\n",
    "        actor_loss.backward()\n",
    "        self.actor_optims[agent_no].step()\n",
    "        \n",
    "        #soft update target networks\n",
    "        self.actors_target[agent_no] = self.soft_update(self.actors_local[agent_no], self.actors_target[agent_no], self.tau)\n",
    "        self.critics_target[agent_no] = self.soft_update(self.critics_local[agent_no], self.critics_target[agent_no], self.tau)\n",
    "        \n",
    "        self.step_count +=1\n",
    "        \n",
    "    def soft_update(self,local,target,tau):\n",
    "        for name, param in target.state_dict().items():\n",
    "            l, t = local.state_dict()[name], target.state_dict()[name] #local,target\n",
    "            new = l * tau + t * (1.0-tau)\n",
    "            target.state_dict()[name].copy_(new)\n",
    "        return(target)\n",
    "    \n",
    "    def save_checkpoints(self, root, run_name, episode_number, scores=None):\n",
    "        '''\n",
    "        In the directory root, creates file run_name if it doesn't exist already. Saves all the model weights (state_dict) \n",
    "        for all the actor and critic local networks (i.e. one of each per agent).\n",
    "        Optional scores argument will also save a scores file in same location as a pickle object\n",
    "        '''\n",
    "        \n",
    "        #create sub-folder for this run if it doesn't exist already\n",
    "        if not(os.path.exists(root+'/'+run_name)):\n",
    "            os.mkdir(root+'/'+run_name)\n",
    "        \n",
    "        for i in range(self.num_agents):\n",
    "            torch.save(self.actors_local[i].state_dict(), root+'/'+run_name+'/actor-agent_%s-episode_%s.pth'%(i,episode_number))\n",
    "            torch.save(self.critics_local[i].state_dict(), root+'/'+run_name+'/critic-agent_%s-episode_%s.pth'%(i,episode_number))\n",
    "        \n",
    "        if scores!=None:\n",
    "            with open(root+'/'+run_name+'/scores-episode_'+episode_number+'.pkl', 'wb') as f:\n",
    "                pickle.dump(scores,f)\n",
    "    \n",
    "    \n",
    "    def load_checkpoints(self, root, run_name, episode_number, scores_bool=False):\n",
    "        for i in range(self.num_agents):\n",
    "            self.actors_local[i].load_state_dict(torch.load(root+'/'+run_name+'/actor-agent_%s-episode_%s.pth'%(i,episode_number)))\n",
    "            self.critics_local[i].load_state_dict(torch.load(root+'/'+run_name+'/critic-agent_%s-episode_%s.pth'%(i,episode_number)))\n",
    "        if scores_bool:\n",
    "            scores = pickle.load(open(root+'/'+run_name+'/scores-episode_'+episode_number+'.pkl','rb'))\n",
    "            return scores"
   ]
  },
  {
   "cell_type": "code",
   "execution_count": 12,
   "metadata": {},
   "outputs": [
    {
     "name": "stdout",
     "output_type": "stream",
     "text": [
      "Takes 1150.1408698020914 decays for noise to reach 0.05\n"
     ]
    }
   ],
   "source": [
    "HIDDEN_SIZE = 300\n",
    "\n",
    "NOISE_START = 0.5\n",
    "NOISE_DECAY = 0.998\n",
    "NOISE_END = 0.05\n",
    "print('Takes %s decays for noise to reach %s'% (math.log((NOISE_END/NOISE_START),NOISE_DECAY), NOISE_END) )\n",
    "\n",
    "REPLAY_MAX_SIZE = 1e6\n",
    "BATCH_SIZE = 32\n",
    "\n",
    "GAMMA=0.99\n",
    "CRITIC_LR = 1e-4\n",
    "ACTOR_LR = 1e-3\n",
    "TAU = 1e-3\n",
    "\n",
    "checkpoint_dir = \"./checkpoints\"\n",
    "run_name = datetime.now().strftime('%Y%m%d_%H%M')\n",
    "SAVE_EVERY = 50\n",
    "\n",
    "NUM_EPISODES = 10\n",
    "\n",
    "Agent = agent(num_agents,state_size,action_size,\n",
    "              HIDDEN_SIZE,HIDDEN_SIZE,HIDDEN_SIZE,HIDDEN_SIZE,\n",
    "              NOISE_START,NOISE_DECAY,NOISE_END,\n",
    "              REPLAY_MAX_SIZE,BATCH_SIZE,\n",
    "              GAMMA, CRITIC_LR, ACTOR_LR, TAU)"
   ]
  },
  {
   "cell_type": "code",
   "execution_count": 13,
   "metadata": {},
   "outputs": [
    {
     "name": "stdout",
     "output_type": "stream",
     "text": [
      "Score (max over agents) from episode 0: 0.0\n",
      "Score (max over agents) from episode 1: 0.0\n",
      "Score (max over agents) from episode 2: 0.0\n",
      "Score (max over agents) from episode 3: 0.0\n",
      "Score (max over agents) from episode 4: 0.0\n",
      "Score (max over agents) from episode 5: 0.0\n",
      "Score (max over agents) from episode 6: 0.0\n",
      "Score (max over agents) from episode 7: 0.0\n",
      "Score (max over agents) from episode 8: 0.0\n",
      "Score (max over agents) from episode 9: 0.0\n"
     ]
    }
   ],
   "source": [
    "score_history = []\n",
    "for episode in range(NUM_EPISODES):                        \n",
    "    env_info = env.reset(train_mode=False)[brain_name]     # reset the environment    \n",
    "    states = env_info.vector_observations                  # get the current state (for each agent)\n",
    "    #shape (n_agents,observation_size)\n",
    "    \n",
    "    scores = np.zeros(num_agents)                          # initialize the score (for each agent)\n",
    "    Agent.decay_noise()\n",
    "    while True:\n",
    "        actions = Agent.get_actions(states,noise=True)\n",
    "        #shape(n_agents,action_size)\n",
    "        \n",
    "        \n",
    "        env_info = env.step(actions)[brain_name]           # send all actions to tne environment\n",
    "        next_states = env_info.vector_observations         # get next state (for each agent)\n",
    "        rewards = env_info.rewards                         # get reward (for each agent)\n",
    "        #list of length n_agents\n",
    "        dones = env_info.local_done                        # see if episode finished\n",
    "        #list of length n_agents\n",
    "        \n",
    "        Agent.step(states, actions, rewards, next_states, dones)\n",
    "        \n",
    "        scores += env_info.rewards                         # update the score (for each agent)\n",
    "        states = next_states                               # roll over states to next time step\n",
    "        if np.any(dones):                                  # exit loop if episode finished\n",
    "            break\n",
    "    \n",
    "    score_history.append(np.max(scores))\n",
    "    print('Score (max over agents) from episode {}: {}'.format(episode, np.max(scores)))\n",
    "    if episode%SAVE_EVERY == 0 & episode!=0:\n",
    "        Agent.save_checkpoints(checkpoint_dir,run_name,episode, scores=score_history)\n",
    "\n",
    "Agent.save_checkpoints(checkpoint_dir,run_name,'final', scores=score_history)"
   ]
  },
  {
   "cell_type": "code",
   "execution_count": 14,
   "metadata": {},
   "outputs": [],
   "source": [
    "#load pretrained model and get scores history\n",
    "saved_run_name = run_name #modify this to be whatever run_name was used\n",
    "ep_no = 'final' #Can choose another episode number\n",
    "scores = Agent.load_checkpoints(checkpoint_dir,saved_run_name,ep_no,scores_bool=True)"
   ]
  }
 ],
 "metadata": {
  "kernelspec": {
   "display_name": "Python 3",
   "language": "python",
   "name": "python3"
  },
  "language_info": {
   "codemirror_mode": {
    "name": "ipython",
    "version": 3
   },
   "file_extension": ".py",
   "mimetype": "text/x-python",
   "name": "python",
   "nbconvert_exporter": "python",
   "pygments_lexer": "ipython3",
   "version": "3.6.10"
  }
 },
 "nbformat": 4,
 "nbformat_minor": 2
}
